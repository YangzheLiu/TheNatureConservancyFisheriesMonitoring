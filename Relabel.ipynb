{
 "cells": [
  {
   "cell_type": "code",
   "execution_count": 1,
   "metadata": {
    "collapsed": true
   },
   "outputs": [],
   "source": [
    "import os"
   ]
  },
  {
   "cell_type": "code",
   "execution_count": 10,
   "metadata": {
    "collapsed": true
   },
   "outputs": [],
   "source": [
    "import csv"
   ]
  },
  {
   "cell_type": "code",
   "execution_count": 40,
   "metadata": {
    "collapsed": false
   },
   "outputs": [
    {
     "name": "stdout",
     "output_type": "stream",
     "text": [
      "data/train_org/NoF/img_07724.jpg\n",
      "data/train_org/NoF/img_00028.jpg\n",
      "data/train_org/NoF/img_00076.jpg\n",
      "data/train_org/NoF/img_00673.jpg\n",
      "data/train_org/NoF/img_00819.jpg\n",
      "data/train_org/NoF/img_00904.jpg\n",
      "data/train_org/NoF/img_01120.jpg\n",
      "data/train_org/NoF/img_01305.jpg\n",
      "data/train_org/NoF/img_01989.jpg\n",
      "data/train_org/NoF/img_02044.jpg\n",
      "data/train_org/NoF/img_02232.jpg\n",
      "data/train_org/NoF/img_02302.jpg\n",
      "data/train_org/NoF/img_02325.jpg\n",
      "data/train_org/NoF/img_02621.jpg\n",
      "data/train_org/NoF/img_03173.jpg\n",
      "data/train_org/NoF/img_03949.jpg\n",
      "data/train_org/NoF/img_04052.jpg\n",
      "data/train_org/NoF/img_04162.jpg\n",
      "data/train_org/NoF/img_04590.jpg\n",
      "data/train_org/NoF/img_04615.jpg\n",
      "data/train_org/NoF/img_04847.jpg\n",
      "data/train_org/NoF/img_05865.jpg\n",
      "data/train_org/NoF/img_06031.jpg\n",
      "data/train_org/NoF/img_06266.jpg\n",
      "data/train_org/NoF/img_06402.jpg\n",
      "data/train_org/NoF/img_06478.jpg\n",
      "data/train_org/NoF/img_06675.jpg\n",
      "data/train_org/NoF/img_07100.jpg\n",
      "data/train_org/NoF/img_07847.jpg\n",
      "data/train_org/OTHER/img_00485.jpg\n",
      "data/train_org/OTHER/img_02099.jpg\n",
      "data/train_org/OTHER/img_04057.jpg\n",
      "data/train_org/OTHER/img_01452.jpg\n",
      "data/train_org/OTHER/img_01452.jpg\n",
      "<type 'exceptions.Exception'> : [Errno 2] No such file or directory\n",
      "data/train_org/OTHER/img_01678.jpg\n",
      "data/train_org/OTHER/img_04826.jpg\n",
      "data/train_org/OTHER/img_04880.jpg\n",
      "data/train_org/OTHER/img_04948.jpg\n",
      "data/train_org/OTHER/img_05082.jpg\n",
      "data/train_org/OTHER/img_05425.jpg\n",
      "data/train_org/OTHER/img_05607.jpg\n",
      "data/train_org/OTHER/img_06111.jpg\n",
      "data/train_org/OTHER/img_06149.jpg\n",
      "data/train_org/OTHER/img_06463.jpg\n",
      "data/train_org/OTHER/img_06700.jpg\n",
      "data/train_org/OTHER/img_06706.jpg\n",
      "data/train_org/OTHER/img_07536.jpg\n",
      "data/train_org/OTHER/img_07751.jpg\n",
      "data/train_org/OTHER/img_07779.jpg\n",
      "data/train_org/ALB/img_00248.jpg\n",
      "data/train_org/ALB/img_00568.jpg\n",
      "data/train_org/ALB/img_01363.jpg\n",
      "data/train_org/ALB/img_02086.jpg\n"
     ]
    }
   ],
   "source": [
    "relabel= open('misfish.csv')\n",
    "all_lines = csv.reader(relabel)\n",
    "for i in all_lines:\n",
    "    print 'data/train_org/'+i[0]\n",
    "    try:\n",
    "        os.rename('data/train_org/'+i[0],'data/train_org/'+i[1]+'/'+i[0].split('/')[1])\n",
    "        \n",
    "    except Exception,e:  \n",
    "        print Exception,\":\",e"
   ]
  },
  {
   "cell_type": "code",
   "execution_count": null,
   "metadata": {
    "collapsed": true
   },
   "outputs": [],
   "source": []
  },
  {
   "cell_type": "code",
   "execution_count": null,
   "metadata": {
    "collapsed": true
   },
   "outputs": [],
   "source": []
  }
 ],
 "metadata": {
  "kernelspec": {
   "display_name": "Python 2",
   "language": "python",
   "name": "python2"
  },
  "language_info": {
   "codemirror_mode": {
    "name": "ipython",
    "version": 2
   },
   "file_extension": ".py",
   "mimetype": "text/x-python",
   "name": "python",
   "nbconvert_exporter": "python",
   "pygments_lexer": "ipython2",
   "version": "2.7.12"
  }
 },
 "nbformat": 4,
 "nbformat_minor": 2
}
